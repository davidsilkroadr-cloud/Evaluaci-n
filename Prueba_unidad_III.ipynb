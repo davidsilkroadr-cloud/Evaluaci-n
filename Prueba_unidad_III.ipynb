{
 "cells": [
  {
   "cell_type": "markdown",
   "id": "cf105f30",
   "metadata": {},
   "source": [
    "<img src=\"logo.png\" alt=\"Logo Institución\" width=\"200\" style=\"display: block; margin-right: 100%;\">\n",
    "\n",
    "# Prueba Práctica - Unidad III Estructuras de Control Selectivas\n",
    "\n",
    "#### **Instrucciones Generales**\n",
    "- **Tiempo asignado**: 60-90 minutos\n",
    "- **Modalidad**: Individual\n",
    "- **Lenguaje**: Python 3.x\n",
    "- **Requisitos**: Resolver usando programación estructurada con estructuras de control condicionales"
   ]
  },
  {
   "cell_type": "markdown",
   "id": "39f8612f",
   "metadata": {},
   "source": [
    "##### Para cada ejercicio:\n",
    "1. Lea atentamente la descripción del problema.\n",
    "2. Implemente la solución solicitada.\n",
    "3. Use entradas por consola (input) para obtener los datos.\n",
    "4. Muestre los resultados con formato claro.\n",
    "5. Use nombres de variables descriptivos y comentarios cuando sea necesario.\n",
    "6. No olvides incluir comentarios en tu código para explicar tu razonamiento."
   ]
  },
  {
   "cell_type": "markdown",
   "id": "eedbfe44",
   "metadata": {},
   "source": [
    "# 🛤️ Ejercicio 1: Control de Tren (Valor - 6 pts)\n",
    "\n",
    "### Descripción\n",
    "Simula el sistema de control de un tren que debe responder a señales en la vía.  \n",
    "Las señales pueden ser **\"verde\"**, **\"amarillo\"** o **\"rojo\"**.  \n",
    "El tren debe ajustar su velocidad base según la señal actual y la distancia hasta la próxima estación:\n",
    "\n",
    "- **Señal verde**:  \n",
    "  - Acelera a **100 km/h** si la distancia es mayor a 5 km.  \n",
    "  - Mantiene **80 km/h** en caso contrario.  \n",
    "\n",
    "- **Señal amarilla**:  \n",
    "  - Reduce la velocidad a **50 km/h** si la distancia es mayor a 3 km.  \n",
    "  - De lo contrario, reduce a **30 km/h**.  \n",
    "\n",
    "- **Señal roja**:  \n",
    "  - Frena hasta **0 km/h** inmediatamente.  \n",
    "\n",
    "- **Obstáculo en la vía**:  \n",
    "  - El tren debe frenar a **0 km/h**, independientemente de la señal.  \n",
    "\n",
    "---\n",
    "\n",
    "### ✅ Salida esperada\n",
    "El programa debe devolver la velocidad actual del tren en base a las condiciones dadas.  \n",
    "\n",
    "**Ejemplo:**\n",
    "- Entrada: `señal=\"amarillo\", distancia=4, obstáculo=False`  \n",
    "- Salida: `Velocidad: 50 km/h`"
   ]
  },
  {
   "cell_type": "code",
   "execution_count": 3,
   "id": "5b996202",
   "metadata": {},
   "outputs": [
    {
     "name": "stdout",
     "output_type": "stream",
     "text": [
      "_________HOLA MUNDOOOO, AQUÍ EL TREN SABROSOOOON ;)___________\n"
     ]
    },
    {
     "ename": "ValueError",
     "evalue": "could not convert string to float: ''",
     "output_type": "error",
     "traceback": [
      "\u001b[31m---------------------------------------------------------------------------\u001b[39m",
      "\u001b[31mValueError\u001b[39m                                Traceback (most recent call last)",
      "\u001b[36mCell\u001b[39m\u001b[36m \u001b[39m\u001b[32mIn[3]\u001b[39m\u001b[32m, line 4\u001b[39m\n\u001b[32m      2\u001b[39m \u001b[38;5;28mprint\u001b[39m(\u001b[33m\"\u001b[39m\u001b[33m_________HOLA MUNDOOOO, AQUÍ EL TREN SABROSOOOON ;)___________\u001b[39m\u001b[33m\"\u001b[39m)\n\u001b[32m      3\u001b[39m senal = \u001b[38;5;28minput\u001b[39m(\u001b[33m\"\u001b[39m\u001b[33m¿cuál es el color de la señal?(verde/amarillo/rojo): \u001b[39m\u001b[33m\"\u001b[39m)\n\u001b[32m----> \u001b[39m\u001b[32m4\u001b[39m distancia = \u001b[38;5;28;43mfloat\u001b[39;49m\u001b[43m(\u001b[49m\u001b[38;5;28;43minput\u001b[39;49m\u001b[43m(\u001b[49m\u001b[33;43m\"\u001b[39;49m\u001b[33;43m¿a qué distancia está la estación? (km): \u001b[39;49m\u001b[33;43m\"\u001b[39;49m\u001b[43m)\u001b[49m\u001b[43m)\u001b[49m\n\u001b[32m      5\u001b[39m obstaculo = \u001b[38;5;28minput\u001b[39m(\u001b[33m\"\u001b[39m\u001b[33m¿Hay algún obstáculo? (si/no): \u001b[39m\u001b[33m\"\u001b[39m)\n\u001b[32m      7\u001b[39m \u001b[38;5;28;01mif\u001b[39;00m obstaculo == \u001b[33m\"\u001b[39m\u001b[33msi\u001b[39m\u001b[33m\"\u001b[39m:\n",
      "\u001b[31mValueError\u001b[39m: could not convert string to float: ''"
     ]
    }
   ],
   "source": [
    "# Aquí se realiza el ejercicio 1\n",
    "print(\"_________HOLA MUNDOOOO, AQUÍ EL TREN SABROSOOOON ;)___________\")\n",
    "senal = input(\"¿cuál es el color de la señal?(verde/amarillo/rojo): \")\n",
    "distancia = float(input(\"¿a qué distancia está la estación? (km): \"))\n",
    "obstaculo = input(\"¿Hay algún obstáculo? (si/no): \")\n",
    "\n",
    "if obstaculo == \"si\":\n",
    "    velocidad = 0\n",
    "elif senal == \"verde\":\n",
    "    if distancia > 5:\n",
    "        velocidad = 100\n",
    "    else:\n",
    "        velocidad = 80\n",
    "elif senal == \"amarillo\":\n",
    "    if distancia > 3:\n",
    "        velocidad = 50\n",
    "    else:\n",
    "        velocidad = 30\n",
    "elif senal == \"rojo\":\n",
    "    velocidad = 0\n",
    "else:\n",
    "    velocidad = 0\n",
    "    print(\"Señal no válida\")\n",
    "\n",
    "print(f\"Velocidad del tren: {velocidad} km/h\")"
   ]
  },
  {
   "cell_type": "code",
   "execution_count": null,
   "id": "d7a107d4",
   "metadata": {},
   "outputs": [],
   "source": []
  },
  {
   "cell_type": "markdown",
   "id": "d7e9e698",
   "metadata": {},
   "source": [
    "# ☢️ Ejercicio 2: Mitigación de Fusión Nuclear (Valor - 7 pts)\n",
    "\n",
    "### Descripción\n",
    "Eres responsable de monitorear un **reactor nuclear**.  \n",
    "Debes determinar el estado del reactor en base a la **temperatura**, la **presión** y el **nivel de refrigerante**.\n",
    "\n",
    "Las reglas son:\n",
    "\n",
    "- Si la **temperatura > 800 °C** y la **presión > 500 bar**, el estado es **\"CRÍTICO\"**.  \n",
    "- Si la **temperatura está entre 600 °C y 800 °C** o la **presión entre 300 bar y 500 bar**, el estado es **\"ALERTA\"**.  \n",
    "- Si el **nivel de refrigerante < 50%**, el estado se degrada un nivel (ejemplo: de \"NORMAL\" a \"ALERTA\").  \n",
    "- En cualquier otro caso, el estado es **\"NORMAL\"**.  \n",
    "\n",
    "---\n",
    "\n",
    "### ✅ Salida esperada\n",
    "El programa debe imprimir el estado del reactor.  \n",
    "\n",
    "**Ejemplo:**\n",
    "- Entrada: `temperatura=750, presión=400, refrigerante=45`  \n",
    "- Salida: `Estado: ALERTA`  \n",
    "  *(porque el refrigerante baja el estado, pero ya estaba en alerta por temperatura y presión)*  "
   ]
  },
  {
   "cell_type": "code",
   "execution_count": 6,
   "id": "06e4c210",
   "metadata": {},
   "outputs": [
    {
     "name": "stdout",
     "output_type": "stream",
     "text": [
      "____________________Papi flaviooooooooooo, tu reactoooor!!!__________________\n",
      "Estado del reactor: NORMAL\n"
     ]
    }
   ],
   "source": [
    "# Aquí se realiza el ejercicio 2\n",
    "print(\"____________________Papi flaviooooooooooo, tu reactoooor!!!__________________\")\n",
    "temperatura = float(input(\"¿cuál es la temperatura del reactor?(°C): \"))\n",
    "presion = float(input(\"¿cuál es la presión del reactor?(bar): \"))\n",
    "nivel_refrigerante = float(input(\"¿cuál es el nivel de refrigerante?(%): \"))\n",
    "\n",
    "if temperatura > 800 and presion > 500:\n",
    "    estado = \"CRÍTICO\"\n",
    "elif (600 <= temperatura <= 800) or (300 <= presion <= 500):\n",
    "    estado = \"ALERTA\"\n",
    "else:\n",
    "    estado = \"NORMAL\"\n",
    "\n",
    "if nivel_refrigerante < 50:\n",
    "    if estado == \"CRÍTICO\":\n",
    "        estado = \"ALERTA\"\n",
    "    elif estado == \"ALERTA\":\n",
    "        estado = \"NORMAL\"\n",
    "\n",
    "print(f\"Estado del reactor: {estado}\")"
   ]
  },
  {
   "cell_type": "markdown",
   "id": "83d5d46c",
   "metadata": {},
   "source": [
    "# 💰 Ejercicio 3: Cálculo de Impuestos (Valor - 7 pts)\n",
    "\n",
    "### Descripción\n",
    "Calcula el **impuesto sobre la renta** en base al **ingreso anual**, la **edad** y el **número de dependientes**.  \n",
    "\n",
    "Las reglas son:\n",
    "\n",
    "- Ingresos **≤ $10,000**: no pagan impuestos.  \n",
    "- Ingresos **entre $10,001 y $50,000**: pagan **10% sobre el exceso** de $10,000.  \n",
    "- Ingresos **> $50,000**: pagan **20% sobre el exceso de $50,000** más **$4,000**.  \n",
    "- Mayores de **65 años**: reducción del **5% en el impuesto total**.  \n",
    "- Por cada **dependiente**, se reduce **$1,000 del ingreso gravable** antes de calcular el impuesto.  \n",
    "\n",
    "---\n",
    "\n",
    "### ✅ Salida esperada\n",
    "El programa debe calcular y mostrar el impuesto a pagar.  \n",
    "\n",
    "**Ejemplo:**\n",
    "- Entrada: `ingreso=60000, edad=70, dependientes=2`  \n",
    "- Salida: `Impuesto: 5320`  \n",
    "\n",
    "📌 *Explicación:*  \n",
    "- Ingreso gravable = 60000 - (1000 × 2) = **58000**  \n",
    "- Impuesto base = 4000 + 20% de (58000 - 50000) = **5600**  \n",
    "- Descuento por edad = 5% de 5600 = **280**  \n",
    "- Impuesto final = 5600 - 280 = **5320**"
   ]
  },
  {
   "cell_type": "code",
   "execution_count": null,
   "id": "6e1014c6",
   "metadata": {},
   "outputs": [
    {
     "name": "stdout",
     "output_type": "stream",
     "text": [
      "_________LA PLATA DEL ABUELOOOOOO!!!!___________\n",
      "Impuesto a pagar: $5320.00\n"
     ]
    }
   ],
   "source": [
    "# Aquí se resuelve el ejercicio 3\n",
    "print(\"_________LA PLATA DEL ABUELOOOOOO!!!!___________\")\n",
    "ingreso_anual = float(input(\"Ingreso anual ($): \"))\n",
    "edad = int(input(\"Edad: \"))\n",
    "dependientes = int(input(\"Número de dependientes: \"))\n",
    "\n",
    "ingreso_gravable = ingreso_anual - (1000 * dependientes)\n",
    "if ingreso_gravable < 0:\n",
    "    ingreso_gravable = 0\n",
    "\n",
    "if ingreso_gravable <= 10000:\n",
    "    impuesto = 0\n",
    "elif ingreso_gravable <= 50000:\n",
    "    impuesto = (ingreso_gravable - 10000) * 0.10\n",
    "else:\n",
    "    impuesto = 4000 + (ingreso_gravable - 50000) * 0.20\n",
    "\n",
    "if edad > 65:\n",
    "    impuesto = impuesto * 0.95\n",
    "\n",
    "print(f\"Impuesto a pagar: ${impuesto:.2f}\")"
   ]
  },
  {
   "cell_type": "markdown",
   "id": "b0529d22",
   "metadata": {},
   "source": [
    "### **¡Éxito en la evaluación!**"
   ]
  }
 ],
 "metadata": {
  "kernelspec": {
   "display_name": "Python 3",
   "language": "python",
   "name": "python3"
  },
  "language_info": {
   "codemirror_mode": {
    "name": "ipython",
    "version": 3
   },
   "file_extension": ".py",
   "mimetype": "text/x-python",
   "name": "python",
   "nbconvert_exporter": "python",
   "pygments_lexer": "ipython3",
   "version": "3.13.7"
  }
 },
 "nbformat": 4,
 "nbformat_minor": 5
}
